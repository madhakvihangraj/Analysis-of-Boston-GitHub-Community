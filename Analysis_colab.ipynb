{
 "cells": [
  {
   "cell_type": "code",
   "execution_count": 6,
   "metadata": {},
   "outputs": [],
   "source": [
    "import pandas as pd\n",
    "import numpy as np\n",
    "import matplotlib.pyplot as plt"
   ]
  },
  {
   "cell_type": "markdown",
   "metadata": {},
   "source": [
    "#### Q1.  Who are the top 5 users in Boston with the highest number of followers? List their login in order, comma-separated"
   ]
  },
  {
   "cell_type": "code",
   "execution_count": 7,
   "metadata": {},
   "outputs": [
    {
     "data": {
      "text/html": [
       "<div>\n",
       "<style scoped>\n",
       "    .dataframe tbody tr th:only-of-type {\n",
       "        vertical-align: middle;\n",
       "    }\n",
       "\n",
       "    .dataframe tbody tr th {\n",
       "        vertical-align: top;\n",
       "    }\n",
       "\n",
       "    .dataframe thead th {\n",
       "        text-align: right;\n",
       "    }\n",
       "</style>\n",
       "<table border=\"1\" class=\"dataframe\">\n",
       "  <thead>\n",
       "    <tr style=\"text-align: right;\">\n",
       "      <th></th>\n",
       "      <th>login</th>\n",
       "      <th>name</th>\n",
       "      <th>company</th>\n",
       "      <th>location</th>\n",
       "      <th>email</th>\n",
       "      <th>hireable</th>\n",
       "      <th>bio</th>\n",
       "      <th>public_repos</th>\n",
       "      <th>followers</th>\n",
       "      <th>following</th>\n",
       "      <th>created_at</th>\n",
       "    </tr>\n",
       "  </thead>\n",
       "  <tbody>\n",
       "    <tr>\n",
       "      <th>0</th>\n",
       "      <td>brianyu28</td>\n",
       "      <td>Brian Yu</td>\n",
       "      <td>NaN</td>\n",
       "      <td>Boston, MA</td>\n",
       "      <td>brian@brianyu.me</td>\n",
       "      <td>False</td>\n",
       "      <td>Software developer and educator</td>\n",
       "      <td>37</td>\n",
       "      <td>13500</td>\n",
       "      <td>15</td>\n",
       "      <td>2015-11-29T07:25:29Z</td>\n",
       "    </tr>\n",
       "    <tr>\n",
       "      <th>1</th>\n",
       "      <td>nzakas</td>\n",
       "      <td>Nicholas C. Zakas</td>\n",
       "      <td>HUMAN WHO CODES LLC</td>\n",
       "      <td>Boston, MA</td>\n",
       "      <td>NaN</td>\n",
       "      <td>False</td>\n",
       "      <td>Creator of ESLint, independent software develo...</td>\n",
       "      <td>74</td>\n",
       "      <td>10529</td>\n",
       "      <td>0</td>\n",
       "      <td>2008-12-05T17:18:56Z</td>\n",
       "    </tr>\n",
       "    <tr>\n",
       "      <th>2</th>\n",
       "      <td>PatrickAlphaC</td>\n",
       "      <td>Patrick Collins</td>\n",
       "      <td>CYFRIN</td>\n",
       "      <td>Boston</td>\n",
       "      <td>NaN</td>\n",
       "      <td>False</td>\n",
       "      <td>Smart Contract Engineer, Auditor, and Educator</td>\n",
       "      <td>279</td>\n",
       "      <td>10196</td>\n",
       "      <td>44</td>\n",
       "      <td>2019-08-19T14:13:41Z</td>\n",
       "    </tr>\n",
       "    <tr>\n",
       "      <th>3</th>\n",
       "      <td>KeithGalli</td>\n",
       "      <td>Keith Galli</td>\n",
       "      <td>NaN</td>\n",
       "      <td>Boston, MA</td>\n",
       "      <td>NaN</td>\n",
       "      <td>True</td>\n",
       "      <td>YouTube Content Creator :).</td>\n",
       "      <td>59</td>\n",
       "      <td>5944</td>\n",
       "      <td>1</td>\n",
       "      <td>2013-12-25T19:49:26Z</td>\n",
       "    </tr>\n",
       "    <tr>\n",
       "      <th>4</th>\n",
       "      <td>CharlesCreativeContent</td>\n",
       "      <td>Shawn Charles</td>\n",
       "      <td>AMAZON</td>\n",
       "      <td>Boston, MA</td>\n",
       "      <td>NaN</td>\n",
       "      <td>True</td>\n",
       "      <td>Software Engineer building Tech Communities</td>\n",
       "      <td>86</td>\n",
       "      <td>5063</td>\n",
       "      <td>1098</td>\n",
       "      <td>2020-03-11T20:10:11Z</td>\n",
       "    </tr>\n",
       "  </tbody>\n",
       "</table>\n",
       "</div>"
      ],
      "text/plain": [
       "                    login               name              company    location  \\\n",
       "0               brianyu28           Brian Yu                  NaN  Boston, MA   \n",
       "1                  nzakas  Nicholas C. Zakas  HUMAN WHO CODES LLC  Boston, MA   \n",
       "2           PatrickAlphaC    Patrick Collins               CYFRIN      Boston   \n",
       "3              KeithGalli        Keith Galli                  NaN  Boston, MA   \n",
       "4  CharlesCreativeContent      Shawn Charles               AMAZON  Boston, MA   \n",
       "\n",
       "              email  hireable  \\\n",
       "0  brian@brianyu.me     False   \n",
       "1               NaN     False   \n",
       "2               NaN     False   \n",
       "3               NaN      True   \n",
       "4               NaN      True   \n",
       "\n",
       "                                                 bio  public_repos  followers  \\\n",
       "0                    Software developer and educator            37      13500   \n",
       "1  Creator of ESLint, independent software develo...            74      10529   \n",
       "2     Smart Contract Engineer, Auditor, and Educator           279      10196   \n",
       "3                        YouTube Content Creator :).            59       5944   \n",
       "4        Software Engineer building Tech Communities            86       5063   \n",
       "\n",
       "   following            created_at  \n",
       "0         15  2015-11-29T07:25:29Z  \n",
       "1          0  2008-12-05T17:18:56Z  \n",
       "2         44  2019-08-19T14:13:41Z  \n",
       "3          1  2013-12-25T19:49:26Z  \n",
       "4       1098  2020-03-11T20:10:11Z  "
      ]
     },
     "execution_count": 7,
     "metadata": {},
     "output_type": "execute_result"
    }
   ],
   "source": [
    "users = pd.read_csv('users.csv')\n",
    "users.head()"
   ]
  },
  {
   "cell_type": "code",
   "execution_count": 8,
   "metadata": {},
   "outputs": [],
   "source": [
    "users['hireable'] = users['hireable'].fillna(False).astype(bool)"
   ]
  },
  {
   "cell_type": "code",
   "execution_count": 9,
   "metadata": {},
   "outputs": [
    {
     "name": "stdout",
     "output_type": "stream",
     "text": [
      "brianyu28, nzakas, PatrickAlphaC, KeithGalli, CharlesCreativeContent\n"
     ]
    }
   ],
   "source": [
    "top5 = users.sort_values(by='followers', ascending=False).head()\n",
    "print(', '.join(top5['login'].tolist()))"
   ]
  },
  {
   "cell_type": "markdown",
   "metadata": {},
   "source": [
    "#### Q2. Who are the 5 earliest registered GitHub users in Boston? List their login in ascending order of created_at, comma-separated."
   ]
  },
  {
   "cell_type": "code",
   "execution_count": 10,
   "metadata": {},
   "outputs": [],
   "source": [
    "users['created_at'] = pd.to_datetime(users['created_at'])"
   ]
  },
  {
   "cell_type": "code",
   "execution_count": 11,
   "metadata": {},
   "outputs": [
    {
     "name": "stdout",
     "output_type": "stream",
     "text": [
      "evan,dpickett,tel,radical,joshuaclayton\n"
     ]
    }
   ],
   "source": [
    "top_earliest = users.sort_values(by='created_at').head()\n",
    "print(','.join(top_earliest['login'].tolist()))"
   ]
  },
  {
   "cell_type": "markdown",
   "metadata": {},
   "source": [
    "#### Q3. What are the 3 most popular license among these users? Ignore missing licenses. List the license_name in order, comma-separated."
   ]
  },
  {
   "cell_type": "code",
   "execution_count": 12,
   "metadata": {},
   "outputs": [
    {
     "data": {
      "text/html": [
       "<div>\n",
       "<style scoped>\n",
       "    .dataframe tbody tr th:only-of-type {\n",
       "        vertical-align: middle;\n",
       "    }\n",
       "\n",
       "    .dataframe tbody tr th {\n",
       "        vertical-align: top;\n",
       "    }\n",
       "\n",
       "    .dataframe thead th {\n",
       "        text-align: right;\n",
       "    }\n",
       "</style>\n",
       "<table border=\"1\" class=\"dataframe\">\n",
       "  <thead>\n",
       "    <tr style=\"text-align: right;\">\n",
       "      <th></th>\n",
       "      <th>login</th>\n",
       "      <th>full_name</th>\n",
       "      <th>created_at</th>\n",
       "      <th>stargazers_count</th>\n",
       "      <th>watchers_count</th>\n",
       "      <th>language</th>\n",
       "      <th>has_projects</th>\n",
       "      <th>has_wiki</th>\n",
       "      <th>license_name</th>\n",
       "    </tr>\n",
       "  </thead>\n",
       "  <tbody>\n",
       "    <tr>\n",
       "      <th>0</th>\n",
       "      <td>brianyu28</td>\n",
       "      <td>brianyu28/presenter</td>\n",
       "      <td>2024-11-24T03:57:34Z</td>\n",
       "      <td>12</td>\n",
       "      <td>12</td>\n",
       "      <td>TypeScript</td>\n",
       "      <td>True</td>\n",
       "      <td>False</td>\n",
       "      <td>lgpl-2.1</td>\n",
       "    </tr>\n",
       "    <tr>\n",
       "      <th>1</th>\n",
       "      <td>brianyu28</td>\n",
       "      <td>brianyu28/magnolia</td>\n",
       "      <td>2024-04-24T12:32:04Z</td>\n",
       "      <td>3</td>\n",
       "      <td>3</td>\n",
       "      <td>Python</td>\n",
       "      <td>True</td>\n",
       "      <td>False</td>\n",
       "      <td>lgpl-2.1</td>\n",
       "    </tr>\n",
       "    <tr>\n",
       "      <th>2</th>\n",
       "      <td>brianyu28</td>\n",
       "      <td>brianyu28/jeopardy</td>\n",
       "      <td>2020-01-20T04:21:06Z</td>\n",
       "      <td>31</td>\n",
       "      <td>31</td>\n",
       "      <td>TypeScript</td>\n",
       "      <td>True</td>\n",
       "      <td>True</td>\n",
       "      <td>NaN</td>\n",
       "    </tr>\n",
       "    <tr>\n",
       "      <th>3</th>\n",
       "      <td>brianyu28</td>\n",
       "      <td>brianyu28/classroometrics</td>\n",
       "      <td>2022-08-10T00:35:48Z</td>\n",
       "      <td>18</td>\n",
       "      <td>18</td>\n",
       "      <td>Python</td>\n",
       "      <td>True</td>\n",
       "      <td>True</td>\n",
       "      <td>NaN</td>\n",
       "    </tr>\n",
       "    <tr>\n",
       "      <th>4</th>\n",
       "      <td>brianyu28</td>\n",
       "      <td>brianyu28/brianyu28</td>\n",
       "      <td>2021-04-18T23:10:34Z</td>\n",
       "      <td>12</td>\n",
       "      <td>12</td>\n",
       "      <td>NaN</td>\n",
       "      <td>True</td>\n",
       "      <td>True</td>\n",
       "      <td>NaN</td>\n",
       "    </tr>\n",
       "  </tbody>\n",
       "</table>\n",
       "</div>"
      ],
      "text/plain": [
       "       login                  full_name            created_at  \\\n",
       "0  brianyu28        brianyu28/presenter  2024-11-24T03:57:34Z   \n",
       "1  brianyu28         brianyu28/magnolia  2024-04-24T12:32:04Z   \n",
       "2  brianyu28         brianyu28/jeopardy  2020-01-20T04:21:06Z   \n",
       "3  brianyu28  brianyu28/classroometrics  2022-08-10T00:35:48Z   \n",
       "4  brianyu28        brianyu28/brianyu28  2021-04-18T23:10:34Z   \n",
       "\n",
       "   stargazers_count  watchers_count    language  has_projects  has_wiki  \\\n",
       "0                12              12  TypeScript          True     False   \n",
       "1                 3               3      Python          True     False   \n",
       "2                31              31  TypeScript          True      True   \n",
       "3                18              18      Python          True      True   \n",
       "4                12              12         NaN          True      True   \n",
       "\n",
       "  license_name  \n",
       "0     lgpl-2.1  \n",
       "1     lgpl-2.1  \n",
       "2          NaN  \n",
       "3          NaN  \n",
       "4          NaN  "
      ]
     },
     "execution_count": 12,
     "metadata": {},
     "output_type": "execute_result"
    }
   ],
   "source": [
    "repos = pd.read_csv('repositories.csv')\n",
    "repos.head()"
   ]
  },
  {
   "cell_type": "code",
   "execution_count": 17,
   "metadata": {},
   "outputs": [
    {
     "data": {
      "text/plain": [
       "license_name\n",
       "mit           10794\n",
       "other          4868\n",
       "apache-2.0     3787\n",
       "Name: count, dtype: int64"
      ]
     },
     "execution_count": 17,
     "metadata": {},
     "output_type": "execute_result"
    }
   ],
   "source": [
    "repos['license_name'].value_counts().head(3)"
   ]
  },
  {
   "cell_type": "markdown",
   "metadata": {},
   "source": [
    "#### Q4. Which company do the majority of these developers work at?"
   ]
  },
  {
   "cell_type": "code",
   "execution_count": 26,
   "metadata": {},
   "outputs": [
    {
     "data": {
      "text/plain": [
       "company\n",
       "NORTHEASTERN UNIVERSITY    19\n",
       "GOOGLE                     12\n",
       "MIT                        12\n",
       "Name: count, dtype: int64"
      ]
     },
     "execution_count": 26,
     "metadata": {},
     "output_type": "execute_result"
    }
   ],
   "source": [
    "users['company'].value_counts().head(3)"
   ]
  },
  {
   "cell_type": "markdown",
   "metadata": {},
   "source": [
    "#### Q5. Which programming language is most popular among these users?"
   ]
  },
  {
   "cell_type": "code",
   "execution_count": 31,
   "metadata": {},
   "outputs": [
    {
     "data": {
      "text/plain": [
       "language\n",
       "JavaScript    3642\n",
       "Python        3006\n",
       "Ruby           889\n",
       "Name: count, dtype: int64"
      ]
     },
     "execution_count": 31,
     "metadata": {},
     "output_type": "execute_result"
    }
   ],
   "source": [
    "repos['language'].value_counts().head(3)"
   ]
  },
  {
   "cell_type": "markdown",
   "metadata": {},
   "source": [
    "#### Q6. Which programming language is the second most popular among users who joined after 2020?\n"
   ]
  },
  {
   "cell_type": "code",
   "execution_count": 32,
   "metadata": {},
   "outputs": [
    {
     "data": {
      "text/html": [
       "<div>\n",
       "<style scoped>\n",
       "    .dataframe tbody tr th:only-of-type {\n",
       "        vertical-align: middle;\n",
       "    }\n",
       "\n",
       "    .dataframe tbody tr th {\n",
       "        vertical-align: top;\n",
       "    }\n",
       "\n",
       "    .dataframe thead th {\n",
       "        text-align: right;\n",
       "    }\n",
       "</style>\n",
       "<table border=\"1\" class=\"dataframe\">\n",
       "  <thead>\n",
       "    <tr style=\"text-align: right;\">\n",
       "      <th></th>\n",
       "      <th>login</th>\n",
       "      <th>name</th>\n",
       "      <th>company</th>\n",
       "      <th>location</th>\n",
       "      <th>email</th>\n",
       "      <th>hireable</th>\n",
       "      <th>bio</th>\n",
       "      <th>public_repos</th>\n",
       "      <th>followers</th>\n",
       "      <th>following</th>\n",
       "      <th>created_at</th>\n",
       "    </tr>\n",
       "  </thead>\n",
       "  <tbody>\n",
       "    <tr>\n",
       "      <th>4</th>\n",
       "      <td>CharlesCreativeContent</td>\n",
       "      <td>Shawn Charles</td>\n",
       "      <td>AMAZON</td>\n",
       "      <td>Boston, MA</td>\n",
       "      <td>NaN</td>\n",
       "      <td>True</td>\n",
       "      <td>Software Engineer building Tech Communities</td>\n",
       "      <td>86</td>\n",
       "      <td>5063</td>\n",
       "      <td>1098</td>\n",
       "      <td>2020-03-11 20:10:11+00:00</td>\n",
       "    </tr>\n",
       "    <tr>\n",
       "      <th>43</th>\n",
       "      <td>neuralmagic</td>\n",
       "      <td>Neural Magic</td>\n",
       "      <td>NaN</td>\n",
       "      <td>Boston</td>\n",
       "      <td>NaN</td>\n",
       "      <td>False</td>\n",
       "      <td>Neural Magic empowers developers to optimize a...</td>\n",
       "      <td>62</td>\n",
       "      <td>855</td>\n",
       "      <td>0</td>\n",
       "      <td>2020-07-23 00:16:47+00:00</td>\n",
       "    </tr>\n",
       "    <tr>\n",
       "      <th>88</th>\n",
       "      <td>Lanny-MacMillan</td>\n",
       "      <td>Lanny MacMillan</td>\n",
       "      <td>THRYV</td>\n",
       "      <td>Boston, Ma</td>\n",
       "      <td>NaN</td>\n",
       "      <td>False</td>\n",
       "      <td>Software Developer / Game Developer\\r\\nReact.j...</td>\n",
       "      <td>25</td>\n",
       "      <td>493</td>\n",
       "      <td>830</td>\n",
       "      <td>2022-04-01 18:10:46+00:00</td>\n",
       "    </tr>\n",
       "    <tr>\n",
       "      <th>112</th>\n",
       "      <td>ibrahimgurhandev</td>\n",
       "      <td>Ibrahim Gurhan</td>\n",
       "      <td>RESILIENT CODERS</td>\n",
       "      <td>Boston MA</td>\n",
       "      <td>NaN</td>\n",
       "      <td>False</td>\n",
       "      <td>Software Engineer at  Resilient Coders | Web D...</td>\n",
       "      <td>36</td>\n",
       "      <td>378</td>\n",
       "      <td>798</td>\n",
       "      <td>2020-07-20 04:11:30+00:00</td>\n",
       "    </tr>\n",
       "    <tr>\n",
       "      <th>130</th>\n",
       "      <td>jessicajaniuk</td>\n",
       "      <td>Jessica Janiuk</td>\n",
       "      <td>GOOGLE</td>\n",
       "      <td>Boston, MA</td>\n",
       "      <td>NaN</td>\n",
       "      <td>False</td>\n",
       "      <td>This account is retired. Find Jessica at githu...</td>\n",
       "      <td>6</td>\n",
       "      <td>341</td>\n",
       "      <td>0</td>\n",
       "      <td>2020-10-12 21:49:39+00:00</td>\n",
       "    </tr>\n",
       "  </tbody>\n",
       "</table>\n",
       "</div>"
      ],
      "text/plain": [
       "                      login             name           company    location  \\\n",
       "4    CharlesCreativeContent    Shawn Charles            AMAZON  Boston, MA   \n",
       "43              neuralmagic     Neural Magic               NaN      Boston   \n",
       "88          Lanny-MacMillan  Lanny MacMillan             THRYV  Boston, Ma   \n",
       "112        ibrahimgurhandev   Ibrahim Gurhan  RESILIENT CODERS   Boston MA   \n",
       "130           jessicajaniuk   Jessica Janiuk            GOOGLE  Boston, MA   \n",
       "\n",
       "    email  hireable                                                bio  \\\n",
       "4     NaN      True        Software Engineer building Tech Communities   \n",
       "43    NaN     False  Neural Magic empowers developers to optimize a...   \n",
       "88    NaN     False  Software Developer / Game Developer\\r\\nReact.j...   \n",
       "112   NaN     False  Software Engineer at  Resilient Coders | Web D...   \n",
       "130   NaN     False  This account is retired. Find Jessica at githu...   \n",
       "\n",
       "     public_repos  followers  following                created_at  \n",
       "4              86       5063       1098 2020-03-11 20:10:11+00:00  \n",
       "43             62        855          0 2020-07-23 00:16:47+00:00  \n",
       "88             25        493        830 2022-04-01 18:10:46+00:00  \n",
       "112            36        378        798 2020-07-20 04:11:30+00:00  \n",
       "130             6        341          0 2020-10-12 21:49:39+00:00  "
      ]
     },
     "execution_count": 32,
     "metadata": {},
     "output_type": "execute_result"
    }
   ],
   "source": [
    "users_after_2020 = users[users['created_at'] > '2020-01-01']\n",
    "users_after_2020.head()"
   ]
  },
  {
   "cell_type": "code",
   "execution_count": 33,
   "metadata": {},
   "outputs": [
    {
     "data": {
      "text/plain": [
       "language\n",
       "Python        58\n",
       "JavaScript    32\n",
       "TypeScript    24\n",
       "HTML          13\n",
       "Rust          11\n",
       "Name: count, dtype: int64"
      ]
     },
     "execution_count": 33,
     "metadata": {},
     "output_type": "execute_result"
    }
   ],
   "source": [
    "repos_2020 = repos[repos['login'].isin(users_after_2020['login'].tolist())]\n",
    "repos_2020['language'].value_counts().head()"
   ]
  },
  {
   "cell_type": "markdown",
   "metadata": {},
   "source": [
    "#### Q7. Which language has the highest average number of stars per repository? "
   ]
  },
  {
   "cell_type": "code",
   "execution_count": 42,
   "metadata": {},
   "outputs": [
    {
     "name": "stdout",
     "output_type": "stream",
     "text": [
      "RMarkdown 787.0\n"
     ]
    }
   ],
   "source": [
    "# Calculate the average number of stars per language\n",
    "avg_stars = repos.groupby('language')['stargazers_count'].mean()\n",
    "# Find the language with the highest average stars\n",
    "top_lang = avg_stars.idxmax()\n",
    "top_stars = avg_stars.max()\n",
    "print(top_lang, top_stars)"
   ]
  },
  {
   "cell_type": "markdown",
   "metadata": {},
   "source": [
    "#### Q8. Let's define leader_strength as followers / (1 + following). Who are the top 5 in terms of leader_strength? List their login in order, comma-separated."
   ]
  },
  {
   "cell_type": "code",
   "execution_count": 43,
   "metadata": {},
   "outputs": [
    {
     "name": "stdout",
     "output_type": "stream",
     "text": [
      "nzakas, nikomatsakis, ccoenraets, KeithGalli, rstudio\n"
     ]
    }
   ],
   "source": [
    "users['leader_strength'] = users['followers'] / (1 + users['following'])\n",
    "top5_lead = users.sort_values(by='leader_strength', ascending=False).head()\n",
    "print(', '.join(top5_lead['login'].tolist()))"
   ]
  },
  {
   "cell_type": "markdown",
   "metadata": {},
   "source": [
    "#### Q9. What is the correlation between the number of followers and the number of public repositories among users in Boston?"
   ]
  },
  {
   "cell_type": "code",
   "execution_count": null,
   "metadata": {},
   "outputs": [
    {
     "data": {
      "text/plain": [
       "0.15158303475607124"
      ]
     },
     "execution_count": 45,
     "metadata": {},
     "output_type": "execute_result"
    }
   ],
   "source": [
    "# Compute correlation coefficient\n",
    "correlation = users['followers'].corr(users['public_repos'])\n",
    "correlation"
   ]
  },
  {
   "cell_type": "markdown",
   "metadata": {},
   "source": [
    "##### Solutoion 9:The correlation value is 0.1516, it means there is a weak positive correlation between the number of followers and the number of public repositories among users in Boston."
   ]
  },
  {
   "cell_type": "markdown",
   "metadata": {},
   "source": [
    "#### Q10. Does creating more repos help users get more followers? Using regression, estimate how many additional followers a user gets per additional public repository."
   ]
  },
  {
   "cell_type": "code",
   "execution_count": null,
   "metadata": {},
   "outputs": [
    {
     "name": "stdout",
     "output_type": "stream",
     "text": [
      "1.193\n"
     ]
    }
   ],
   "source": [
    "import csv\n",
    "followers = []\n",
    "public_repos = []\n",
    "with open('users.csv', 'r', encoding='utf-8') as file:\n",
    "    reader = csv.DictReader(file)\n",
    "    # Extract followers and public_repos Data\n",
    "    for row in reader:\n",
    "        followers_count = int(row['followers'])\n",
    "        public_repos_count = int(row['public_repos'])\n",
    "        followers.append(followers_count)\n",
    "        public_repos.append(public_repos_count)\n",
    "# Perform Linear Regression\n",
    "if len(followers) > 1 and len(public_repos) > 1:\n",
    "    slope, intercept = np.polyfit(public_repos, followers, 1)\n",
    "    \n",
    "    print(f\"{slope:.3f}\")\n",
    "else:\n",
    "    print(\"Error\")"
   ]
  },
  {
   "cell_type": "markdown",
   "metadata": {},
   "source": [
    "#### Q11. Do people typically enable projects and wikis together? What is the correlation between a repo having projects enabled and having wiki enabled?"
   ]
  },
  {
   "cell_type": "code",
   "execution_count": 49,
   "metadata": {},
   "outputs": [
    {
     "name": "stdout",
     "output_type": "stream",
     "text": [
      "0.275\n"
     ]
    }
   ],
   "source": [
    "if repos['has_projects'].dtype == 'object':\n",
    "    repos['has_projects'] = repos['has_projects'].map({'true': True, 'false': False})\n",
    "if repos['has_wiki'].dtype == 'object':\n",
    "    repos['has_wiki'] = repos['has_wiki'].map({'true': True, 'false': False})\n",
    "    \n",
    "correlation = repos['has_projects'].corr(repos['has_wiki'])\n",
    "    \n",
    "print(round(correlation, 3))"
   ]
  },
  {
   "cell_type": "markdown",
   "metadata": {},
   "source": [
    "#### Q12. Do hireable users follow more people than those who are not hireable?"
   ]
  },
  {
   "cell_type": "code",
   "execution_count": 50,
   "metadata": {},
   "outputs": [
    {
     "data": {
      "text/plain": [
       "112.88345285758281"
      ]
     },
     "execution_count": 50,
     "metadata": {},
     "output_type": "execute_result"
    }
   ],
   "source": [
    "hireable_avg_following = users[users['hireable'] == True]['following'].mean()\n",
    "non_hireable_avg_following = users[users['hireable'] == False]['following'].mean()\n",
    "difference = hireable_avg_following - non_hireable_avg_following\n",
    "difference"
   ]
  },
  {
   "cell_type": "markdown",
   "metadata": {},
   "source": [
    "#### Q13. Some developers write long bios. Does that help them get more followers? What's the correlation of the length of their bio (in Unicode characters) with followers? (Ignore people without bios)"
   ]
  },
  {
   "cell_type": "code",
   "execution_count": 53,
   "metadata": {},
   "outputs": [
    {
     "name": "stdout",
     "output_type": "stream",
     "text": [
      "-0.7698092960909222\n"
     ]
    }
   ],
   "source": [
    "import pandas as pd\n",
    "from sklearn.linear_model import LinearRegression\n",
    "# Load the CSV file into a DataFrame\n",
    "users = pd.read_csv('users.csv')\n",
    "# Filter users with non-empty 'bio' and create a new column 'bio_len' for the length of the bio\n",
    "users_with_bio = users[(users['bio'].notna()) & (users['bio'] != '')].copy()\n",
    "users_with_bio.loc[:, 'bio_len'] = users_with_bio['bio'].str.len()\n",
    "# Prepare the data for linear regression\n",
    "X = users_with_bio['bio_len'].values.reshape(-1, 1)\n",
    "y = users_with_bio['followers']\n",
    "# Perform linear regression\n",
    "lr2 = LinearRegression()\n",
    "lr2.fit(X, y)\n",
    "\n",
    "# Print the coefficient\n",
    "print(lr2.coef_[0])\n"
   ]
  },
  {
   "cell_type": "markdown",
   "metadata": {},
   "source": [
    "#### Q14. Who created the most repositories on weekends (UTC)? List the top 5 users' login in order, comma-separated"
   ]
  },
  {
   "cell_type": "code",
   "execution_count": 55,
   "metadata": {},
   "outputs": [
    {
     "name": "stdout",
     "output_type": "stream",
     "text": [
      "cameronraysmith, berquist, burtbeckwith, jimkang, johnny-rice\n"
     ]
    }
   ],
   "source": [
    "import csv\n",
    "from collections import Counter\n",
    "from datetime import datetime\n",
    "\n",
    "weekend_repo_counts = Counter()\n",
    "\n",
    "with open('repositories.csv', 'r', encoding='utf-8') as file:\n",
    "    reader = csv.DictReader(file)\n",
    "    \n",
    "    for row in reader:\n",
    "        created_at = row.get('created_at', '')\n",
    "        if created_at:\n",
    "            created_date = datetime.fromisoformat(created_at[:-1])  \n",
    "            \n",
    "            if created_date.weekday() in [5, 6]:\n",
    "                user_login = row['login']\n",
    "                weekend_repo_counts[user_login] += 1  \n",
    "\n",
    "top_users = weekend_repo_counts.most_common(5)\n",
    "\n",
    "top_logins = [user[0] for user in top_users]\n",
    "\n",
    "print(', '.join(top_logins))"
   ]
  },
  {
   "cell_type": "markdown",
   "metadata": {},
   "source": [
    "#### Q15. Do people who are hireable share their email addresses more often?"
   ]
  },
  {
   "cell_type": "code",
   "execution_count": 56,
   "metadata": {},
   "outputs": [
    {
     "data": {
      "text/plain": [
       "0.08603546130494083"
      ]
     },
     "execution_count": 56,
     "metadata": {},
     "output_type": "execute_result"
    }
   ],
   "source": [
    "fraction_hierable = users[users['hireable'] == True]['email'].notna().mean()\n",
    "fraction_non_hierable = users[users['hireable'] == False]['email'].notna().mean()\n",
    "diff = fraction_hierable - fraction_non_hierable\n",
    "diff"
   ]
  },
  {
   "cell_type": "markdown",
   "metadata": {},
   "source": [
    "#### Q16. Let's assume that the last word in a user's name is their surname (ignore missing names, trim and split by whitespace.) What's the most common surname? (If there's a tie, list them all, comma-separated, alphabetically)"
   ]
  },
  {
   "cell_type": "code",
   "execution_count": 62,
   "metadata": {},
   "outputs": [
    {
     "name": "stdout",
     "output_type": "stream",
     "text": [
      "Williams,Zhang\n"
     ]
    }
   ],
   "source": [
    "new_users = users[users['name'].notna()].copy()\n",
    "# Extract the Surname (Last Word of Name)\n",
    "new_users['surname'] = new_users['name'].str.split().str[-1].str.strip()\n",
    "surname_counts = new_users['surname'].value_counts()\n",
    "\n",
    "# Find the Most Common Surnames\n",
    "max_count = surname_counts.max()\n",
    "common_surnames = surname_counts[surname_counts == max_count].index.tolist()\n",
    "common_surnames.sort()\n",
    "print(','.join(common_surnames))"
   ]
  },
  {
   "cell_type": "code",
   "execution_count": null,
   "metadata": {},
   "outputs": [],
   "source": [
    "# Replaces missing values & converts everything to strings\n",
    "users = users.fillna(\"\").astype(str)\n",
    "repos = repos.fillna(\"\").astype(str)\n",
    "\n",
    "# Normalizes boolean values to lowercase strings\n",
    "repos['has_wiki'] = repos['has_wiki'].astype(str).replace({'True': 'true', 'False': 'false'})\n",
    "repos['has_projects'] = repos['has_projects'].astype(str).replace({'True': 'true', 'False': 'false'})\n",
    "\n",
    "# Saves the cleaned data for future use\n",
    "users.to_csv('users1.csv', index=False)\n",
    "repos.to_csv('repos1.csv', index=False)"
   ]
  }
 ],
 "metadata": {
  "kernelspec": {
   "display_name": "Python 3",
   "language": "python",
   "name": "python3"
  },
  "language_info": {
   "codemirror_mode": {
    "name": "ipython",
    "version": 3
   },
   "file_extension": ".py",
   "mimetype": "text/x-python",
   "name": "python",
   "nbconvert_exporter": "python",
   "pygments_lexer": "ipython3",
   "version": "3.12.4"
  }
 },
 "nbformat": 4,
 "nbformat_minor": 2
}
